{
 "cells": [
  {
   "cell_type": "code",
   "execution_count": 3,
   "metadata": {},
   "outputs": [
    {
     "name": "stderr",
     "output_type": "stream",
     "text": [
      "/home/shiva/anaconda3/envs/elastic/lib/python3.10/site-packages/eland/field_mappings.py:549: FutureWarning: iteritems is deprecated and will be removed in a future version. Use .items instead.\n",
      "  for column, dtype in dataframe.dtypes.iteritems():\n"
     ]
    }
   ],
   "source": [
    "from elasticsearch import Elasticsearch\n",
    "import eland as ed\n",
    "import pandas as pd\n",
    "from re import sub\n",
    "\n",
    "## Setup Variables\n",
    "\n",
    "#elasticHost      = 'localhost'\n",
    "#elasticUsername  = 'elastic'\n",
    "#elasticPassword  = 'elastic'\n",
    "#elasticScheme    = 'http'\n",
    "#elasticPort      =  9200\n",
    "#elasticTimeout   =  100\n",
    "elasticOpaqueId  = 'python-eland-requests'  \n",
    "\n",
    "es = Elasticsearch(\n",
    "    cloud_id=\"WHS:YXVzdHJhbGlhLXNvdXRoZWFzdDEuZ2NwLmVsYXN0aWMtY2xvdWQuY29tJGNhYTExYzViNzQ3YjQwMzViZWFhNzQ1MTcwY2EwOWZlJDZkOWQxNzg1ZjM1MDQxMDdhOTcxMWYyMWU5YjE3ZmQx\",\n",
    "    basic_auth=(\"elastic\", \"BnV9bouQp2Pbksh0Zla8Ow78\"),\n",
    "    opaque_id=elasticOpaqueId\n",
    ")\n",
    "\n",
    "## Setup Connection to Elasticsearch\n",
    "##es = Elasticsearch(\n",
    "##    [elasticHost],\n",
    "##    http_auth=(elasticUsername, elasticPassword),\n",
    "##    scheme=elasticScheme,\n",
    "##    port=elasticPort,\n",
    "##    request_timeout=elasticTimeout,\n",
    "##    opaque_id=elasticOpaqueId\n",
    "##)\n",
    "\n",
    "## Create a Pandas Dataframe of Data to be Loaded into Elasticsearch\n",
    "df = pd.read_json('')\n",
    "\n",
    "## Replace NaN (null) Values with Zero \n",
    "df.fillna(0, inplace=True)\n",
    "\n",
    "# Rename the Columns to be Camel Case\n",
    "def camel_case_string(string):\n",
    "    string =  sub(r\"(_|-)+\", \" \", string).title().replace(\" \", \"\")\n",
    "    string = string[0].lower() + string[1:]\n",
    "    return string\n",
    "df.columns = [camel_case_string(x) for x in df.columns]\n",
    "\n",
    "## Save the Data into Elasticsearch\n",
    "df = ed.pandas_to_eland(\n",
    "    pd_df=df,\n",
    "    es_client=es,\n",
    "    # Where the data will live in Elasticsearch\n",
    "    es_dest_index=\"search-eric-new\",\n",
    "    # Type overrides for certain columns, the default is keyword\n",
    "    # name has been set to free text and year to a date field.\n",
    "    #es_type_overrides={\n",
    "    #    \"name\": \"text\",\n",
    "    #    \"year\": \"date\"\n",
    "    #},\n",
    "    # If the index already exists replace it\n",
    "    es_if_exists=\"replace\",\n",
    "    # Wait for data to be indexed before returning\n",
    "    es_refresh=True,\n",
    ")\n"
   ]
  }
 ],
 "metadata": {
  "kernelspec": {
   "display_name": "Python 3.10.6 ('elastic')",
   "language": "python",
   "name": "python3"
  },
  "language_info": {
   "codemirror_mode": {
    "name": "ipython",
    "version": 3
   },
   "file_extension": ".py",
   "mimetype": "text/x-python",
   "name": "python",
   "nbconvert_exporter": "python",
   "pygments_lexer": "ipython3",
   "version": "3.10.6"
  },
  "orig_nbformat": 4,
  "vscode": {
   "interpreter": {
    "hash": "0d019367362a852d2e6b2d85018dccba454d1256b4335a2f801a80826fa391a4"
   }
  }
 },
 "nbformat": 4,
 "nbformat_minor": 2
}
