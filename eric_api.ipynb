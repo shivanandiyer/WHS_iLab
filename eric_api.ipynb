{
 "cells": [
  {
   "cell_type": "markdown",
   "metadata": {},
   "source": [
    "This python code searches data from the ERIC Api and uploads the data to an Elastic Index - \"search-eric\""
   ]
  },
  {
   "cell_type": "code",
   "execution_count": 81,
   "metadata": {},
   "outputs": [],
   "source": [
    "import numpy as np\n",
    "import pandas as pd\n",
    "import requests\n",
    "import json\n",
    "import time"
   ]
  },
  {
   "cell_type": "code",
   "execution_count": 82,
   "metadata": {},
   "outputs": [],
   "source": [
    "#url = \"https://api.ies.ed.gov/eric/?search=mental%20health%20risks%20in%20construction%20industry&rows=200&format=json&start=0\"\n",
    "#responseJson = requests.get(url).json()"
   ]
  },
  {
   "cell_type": "code",
   "execution_count": 83,
   "metadata": {},
   "outputs": [],
   "source": [
    "#responseJson"
   ]
  },
  {
   "cell_type": "code",
   "execution_count": 84,
   "metadata": {},
   "outputs": [],
   "source": [
    "def getEricRecords(search, fields = None, start=0, rows=2000):\n",
    "    url = 'https://api.ies.ed.gov/eric/?'\n",
    "    url = url + 'search=' + search + '&rows=' + str(rows) + '&format=json&start=' + str(start)\n",
    "    if(fields):\n",
    "        url = url + '&fields=' + ', '.join(fields)\n",
    "    print(url)\n",
    "    responseJson = requests.get(url).json()\n",
    "    #df = pd.DataFrame(responseJson)\n",
    "    return pd.DataFrame(responseJson)"
   ]
  },
  {
   "cell_type": "code",
   "execution_count": 85,
   "metadata": {},
   "outputs": [],
   "source": [
    "def getRecordCount(search):\n",
    "    dataFrame = getEricRecords(search)\n",
    "    totalRecords = dataFrame.loc['numFound'][0]\n",
    "    print('Search', search, 'returned', format(totalRecords), 'records')\n",
    "    return totalRecords"
   ]
  },
  {
   "cell_type": "code",
   "execution_count": 86,
   "metadata": {},
   "outputs": [],
   "source": [
    "def cleanElementsUsingList(x):\n",
    "    if(not isinstance(x, list)):\n",
    "        return x\n",
    "    if(not x or (len(x) == 1 and x[0] == '')):\n",
    "        return None\n",
    "    return ', '.join(x)"
   ]
  },
  {
   "cell_type": "code",
   "execution_count": 87,
   "metadata": {},
   "outputs": [],
   "source": [
    "def getAllEricRecords(search, fields = None, cleanElements = True):\n",
    "    startTime = time.time()\n",
    "    nextFirstRecord = 0\n",
    "    numRecordsReturnedEachApiCall = 2000\n",
    "    #totalRecords = getRecordCount(search)\n",
    "    totalRecords = 32000\n",
    "    if(totalRecords == 0):\n",
    "        print ('Search', search, 'has no results')\n",
    "        return []\n",
    "        \n",
    "    while(nextFirstRecord < totalRecords):\n",
    "        dataFrame = getEricRecords(search, fields, nextFirstRecord)\n",
    "        if(nextFirstRecord == 0):\n",
    "            records = pd.DataFrame(dataFrame.loc['docs'][0])\n",
    "        else:\n",
    "            records = pd.concat([records, pd.DataFrame(dataFrame.loc['docs'][0])], sort=False, ignore_index=True)\n",
    "        nextFirstRecord += numRecordsReturnedEachApiCall\n",
    "    #print('took', '{:,.lf}'.format(time.time() - startTime), 'seconds')\n",
    "    return records.applymap(cleanElementsUsingList) if cleanElements else records"
   ]
  },
  {
   "cell_type": "code",
   "execution_count": 88,
   "metadata": {},
   "outputs": [
    {
     "name": "stdout",
     "output_type": "stream",
     "text": [
      "https://api.ies.ed.gov/eric/?search=subject:mental%20health%20risks%20in%20construction%20industry&rows=2000&format=json&start=0\n",
      "https://api.ies.ed.gov/eric/?search=subject:mental%20health%20risks%20in%20construction%20industry&rows=2000&format=json&start=2000\n",
      "https://api.ies.ed.gov/eric/?search=subject:mental%20health%20risks%20in%20construction%20industry&rows=2000&format=json&start=4000\n",
      "https://api.ies.ed.gov/eric/?search=subject:mental%20health%20risks%20in%20construction%20industry&rows=2000&format=json&start=6000\n",
      "https://api.ies.ed.gov/eric/?search=subject:mental%20health%20risks%20in%20construction%20industry&rows=2000&format=json&start=8000\n",
      "https://api.ies.ed.gov/eric/?search=subject:mental%20health%20risks%20in%20construction%20industry&rows=2000&format=json&start=10000\n",
      "https://api.ies.ed.gov/eric/?search=subject:mental%20health%20risks%20in%20construction%20industry&rows=2000&format=json&start=12000\n",
      "https://api.ies.ed.gov/eric/?search=subject:mental%20health%20risks%20in%20construction%20industry&rows=2000&format=json&start=14000\n",
      "https://api.ies.ed.gov/eric/?search=subject:mental%20health%20risks%20in%20construction%20industry&rows=2000&format=json&start=16000\n",
      "https://api.ies.ed.gov/eric/?search=subject:mental%20health%20risks%20in%20construction%20industry&rows=2000&format=json&start=18000\n",
      "https://api.ies.ed.gov/eric/?search=subject:mental%20health%20risks%20in%20construction%20industry&rows=2000&format=json&start=20000\n",
      "https://api.ies.ed.gov/eric/?search=subject:mental%20health%20risks%20in%20construction%20industry&rows=2000&format=json&start=22000\n",
      "https://api.ies.ed.gov/eric/?search=subject:mental%20health%20risks%20in%20construction%20industry&rows=2000&format=json&start=24000\n",
      "https://api.ies.ed.gov/eric/?search=subject:mental%20health%20risks%20in%20construction%20industry&rows=2000&format=json&start=26000\n",
      "https://api.ies.ed.gov/eric/?search=subject:mental%20health%20risks%20in%20construction%20industry&rows=2000&format=json&start=28000\n",
      "https://api.ies.ed.gov/eric/?search=subject:mental%20health%20risks%20in%20construction%20industry&rows=2000&format=json&start=30000\n",
      "<class 'pandas.core.frame.DataFrame'>\n",
      "RangeIndex: 32000 entries, 0 to 31999\n",
      "Data columns (total 12 columns):\n",
      " #   Column               Non-Null Count  Dtype  \n",
      "---  ------               --------------  -----  \n",
      " 0   id                   32000 non-null  object \n",
      " 1   title                32000 non-null  object \n",
      " 2   author               28615 non-null  object \n",
      " 3   description          31525 non-null  object \n",
      " 4   subject              32000 non-null  object \n",
      " 5   publicationtype      28158 non-null  object \n",
      " 6   publicationdateyear  31939 non-null  float64\n",
      " 7   language             27178 non-null  object \n",
      " 8   issn                 17750 non-null  object \n",
      " 9   publisher            18639 non-null  object \n",
      " 10  peerreviewed         32000 non-null  object \n",
      " 11  isbn                 1370 non-null   object \n",
      "dtypes: float64(1), object(11)\n",
      "memory usage: 2.9+ MB\n"
     ]
    }
   ],
   "source": [
    "#search = \"mental%20health%20risks%20in%20construction%20industry\"\n",
    "#search = 'subject:mental%20health%20risks%20in%20construction%20industry AND publicationdateyear:2019'\n",
    "search = 'subject:mental%20health%20risks%20in%20construction%20industry'\n",
    "records = getAllEricRecords(search)\n",
    "records.info()"
   ]
  },
  {
   "cell_type": "code",
   "execution_count": 89,
   "metadata": {},
   "outputs": [],
   "source": [
    "#records.to_csv(\"/home/shiva/Downloads/eric_response.csv\")"
   ]
  },
  {
   "cell_type": "code",
   "execution_count": 90,
   "metadata": {},
   "outputs": [],
   "source": [
    "#records"
   ]
  },
  {
   "cell_type": "markdown",
   "metadata": {},
   "source": [
    "Write output to Elastic Index"
   ]
  },
  {
   "cell_type": "code",
   "execution_count": 91,
   "metadata": {},
   "outputs": [
    {
     "name": "stderr",
     "output_type": "stream",
     "text": [
      "/home/shiva/anaconda3/envs/elastic/lib/python3.10/site-packages/eland/field_mappings.py:549: FutureWarning: iteritems is deprecated and will be removed in a future version. Use .items instead.\n",
      "  for column, dtype in dataframe.dtypes.iteritems():\n"
     ]
    }
   ],
   "source": [
    "from elasticsearch import Elasticsearch\n",
    "import eland as ed\n",
    "import pandas as pd\n",
    "from re import sub\n",
    "\n",
    "## Setup Variables\n",
    "\n",
    "#elasticHost      = 'localhost'\n",
    "#elasticUsername  = 'elastic'\n",
    "#elasticPassword  = 'elastic'\n",
    "#elasticScheme    = 'http'\n",
    "#elasticPort      =  9200\n",
    "#elasticTimeout   =  100\n",
    "elasticOpaqueId  = 'python-eland-requests'  \n",
    "\n",
    "es = Elasticsearch(\n",
    "    cloud_id=\"WHS:YXVzdHJhbGlhLXNvdXRoZWFzdDEuZ2NwLmVsYXN0aWMtY2xvdWQuY29tJGNhYTExYzViNzQ3YjQwMzViZWFhNzQ1MTcwY2EwOWZlJDZkOWQxNzg1ZjM1MDQxMDdhOTcxMWYyMWU5YjE3ZmQx\",\n",
    "    basic_auth=(\"elastic\", \"BnV9bouQp2Pbksh0Zla8Ow78\"),\n",
    "    opaque_id=elasticOpaqueId\n",
    ")\n",
    "\n",
    "## Setup Connection to Elasticsearch\n",
    "##es = Elasticsearch(\n",
    "##    [elasticHost],\n",
    "##    http_auth=(elasticUsername, elasticPassword),\n",
    "##    scheme=elasticScheme,\n",
    "##    port=elasticPort,\n",
    "##    request_timeout=elasticTimeout,\n",
    "##    opaque_id=elasticOpaqueId\n",
    "##)\n",
    "\n",
    "## Create a Pandas Dataframe of Data to be Loaded into Elasticsearch\n",
    "##df = pd.read_json('')\n",
    "\n",
    "df = records\n",
    "\n",
    "## Replace NaN (null) Values with Zero \n",
    "df.fillna(0, inplace=True)\n",
    "\n",
    "# Rename the Columns to be Camel Case\n",
    "def camel_case_string(string):\n",
    "    string =  sub(r\"(_|-)+\", \" \", string).title().replace(\" \", \"\")\n",
    "    string = string[0].lower() + string[1:]\n",
    "    return string\n",
    "df.columns = [camel_case_string(x) for x in df.columns]\n",
    "\n",
    "## Save the Data into Elasticsearch\n",
    "df = ed.pandas_to_eland(\n",
    "    pd_df=df,\n",
    "    es_client=es,\n",
    "    # Where the data will live in Elasticsearch\n",
    "    es_dest_index=\"search-eric\",\n",
    "    # Type overrides for certain columns, the default is keyword\n",
    "    # name has been set to free text and year to a date field.\n",
    "    #es_type_overrides={\n",
    "    #    \"name\": \"text\",\n",
    "    #    \"year\": \"date\"\n",
    "    #},\n",
    "    # If the index already exists replace it\n",
    "    es_if_exists=\"append\",\n",
    "    # Wait for data to be indexed before returning\n",
    "    es_refresh=True,\n",
    ")\n"
   ]
  }
 ],
 "metadata": {
  "kernelspec": {
   "display_name": "Python 3.10.6 ('elastic')",
   "language": "python",
   "name": "python3"
  },
  "language_info": {
   "codemirror_mode": {
    "name": "ipython",
    "version": 3
   },
   "file_extension": ".py",
   "mimetype": "text/x-python",
   "name": "python",
   "nbconvert_exporter": "python",
   "pygments_lexer": "ipython3",
   "version": "3.10.6"
  },
  "orig_nbformat": 4,
  "vscode": {
   "interpreter": {
    "hash": "0d019367362a852d2e6b2d85018dccba454d1256b4335a2f801a80826fa391a4"
   }
  }
 },
 "nbformat": 4,
 "nbformat_minor": 2
}
