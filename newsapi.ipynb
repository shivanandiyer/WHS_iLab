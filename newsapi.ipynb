{
 "cells": [
  {
   "cell_type": "code",
   "execution_count": 27,
   "metadata": {},
   "outputs": [],
   "source": [
    "from newsapi import NewsApiClient\n",
    "import json\n",
    "import pandas as pd"
   ]
  },
  {
   "cell_type": "code",
   "execution_count": 28,
   "metadata": {},
   "outputs": [],
   "source": [
    "def NewsAPI(apikey,searchcriteria,sortby):\n",
    "\n",
    "    # Init\n",
    "    #newsapi = NewsApiClient(api_key='13e55a0abf684d0788eeb23a411874ff')\n",
    "    newsapi = NewsApiClient(api_key=apikey)\n",
    "    # /v2/top-headlines\n",
    "    #top_headlines = newsapi.get_top_headlines(q='work related incidents',sources='bbc-news,the-verge',language='en',country='us')\n",
    "\n",
    "    # /v2/everything\n",
    "    #all_articles = newsapi.get_everything(q='work related incidents',sort_by='popularity')\n",
    "    all_articles = newsapi.get_everything(q=searchcriteria,sort_by=sortby)\n",
    "    # /v2/top-headlines/sources\n",
    "    # sources = newsapi.get_sources()\n",
    "    return all_articles"
   ]
  },
  {
   "cell_type": "code",
   "execution_count": 29,
   "metadata": {},
   "outputs": [],
   "source": [
    "\n",
    "def apiresponsetocsv(inputarticles,outputfile):\n",
    "\n",
    "    all_articles_str = json.dumps(inputarticles)\n",
    "    response = json.loads(all_articles_str)\n",
    "    df = pd.json_normalize(response['articles'])\n",
    "    df_results = pd.DataFrame()\n",
    "    #df.to_csv('/home/shiva/Downloads/news.csv')\n",
    "    df.to_csv(outputfile)"
   ]
  },
  {
   "cell_type": "code",
   "execution_count": 31,
   "metadata": {},
   "outputs": [],
   "source": [
    "inputarticles = NewsAPI('13e55a0abf684d0788eeb23a411874ff','work related incidents','popularity')\n",
    "apiresponsetocsv(inputarticles,'/home/shiva/Downloads/news.csv')"
   ]
  }
 ],
 "metadata": {
  "kernelspec": {
   "display_name": "Python 3.8.12 ('base')",
   "language": "python",
   "name": "python3"
  },
  "language_info": {
   "codemirror_mode": {
    "name": "ipython",
    "version": 3
   },
   "file_extension": ".py",
   "mimetype": "text/x-python",
   "name": "python",
   "nbconvert_exporter": "python",
   "pygments_lexer": "ipython3",
   "version": "3.8.12"
  },
  "orig_nbformat": 4,
  "vscode": {
   "interpreter": {
    "hash": "8edcfcbab2b70998acbba65aaf5984272317c691b8f0b2b32e1e8e56078b1f11"
   }
  }
 },
 "nbformat": 4,
 "nbformat_minor": 2
}
